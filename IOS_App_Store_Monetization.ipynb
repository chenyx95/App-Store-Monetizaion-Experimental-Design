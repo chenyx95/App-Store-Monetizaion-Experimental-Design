{
 "cells": [
  {
   "cell_type": "markdown",
   "metadata": {},
   "source": [
    "# IOS App Store Monetization Experimental Design\n",
    "\n",
    "#### Yuxi Chen 09/12/2018"
   ]
  },
  {
   "cell_type": "markdown",
   "metadata": {
    "collapsed": true
   },
   "source": [
    "**Project Goal:** Identify opportunities of increasing App Store revenue.\n",
    "\n",
    "**Steps:**\n",
    "* Data Wrangling\n",
    "* Exploratory Data Analysis: generating product improvement ideas from chaotic data\n",
    "* Experimental Design: A/B test my idea\n",
    "* Recommendations\n",
    "\n",
    "**Data sets:**\n",
    "* ***customer_behavior.csv:***   \n",
    "field_name | description | field_type | sample_value  \n",
    "**buyer_week_before** | Number of weeks when user made a purchase, in the last 8 weeks. | int64 | 1  \n",
    "**clicked_buy_before** | If the user had clicked on the checkout button, in the last 3 months. | int32 | 1  \n",
    "**country** | IP country of the user | string | FR  \n",
    "**initial_fop_set** | If the user had form of payment as of today. | bool | TRUE  \n",
    "**made_purchase_before** | If the user made any purchase successfully, in the last 3 months. | int32 | 1  \n",
    "**is_existing_buyer** | If the user had ever made purchase before today. | int32 | 1  \n",
    "**saw_cart_before** | If the user had put items in the shopping cart, in the last 3 months. | int32 | 1     \n",
    "**spend_usd_next_14_days** | $ the user has spent in the next 14 days, if any. | double | 5.598928  \n",
    "**user_added_credit_card** | If the user had ever added credit card before today. | int64 | 0  \n",
    "**user_added_dcb** | If the user had ever added direct carrier billing before today. | int64 | 1  \n",
    "**user_added_fop** | If the user had ever added any payment method before today. | int32 | 1  \n",
    "**user_added_gift_card** | If the user had ever added gift card balance before today. | int64 | 0  \n",
    "**user_added_paypal** | If the user had ever added PayPal before today. | int64 | 0  \n",
    "**user_id** | Identifier for the user | uint64 | 7463247415085794629  \n",
    "**visit_before** | If the user had visited the purchase flow, in the last 3 months. | int32 | 1  \n",
    "  \n",
    "  \n",
    "* ***experiment_result.csv: ***   \n",
    "field_name | description | field_type | sample_value  \n",
    "**country** | IP country of the user. | string | CA  \n",
    "**date** | Date of the purchase. | string | 2017-04-02  \n",
    "**experiment_id** | 12624549 is control, 12624548 is experiment | int64 | 12624548  \n",
    "**order_id** | Identifier for every purchase placed. | uint64 | 7467423603605900461  \n",
    "**spend_usd** | $ spent for that order. | double | 1.028424  \n",
    "**user_bucket** | A randomly assigned bucket to each user (1-20). | int32 | 5  \n",
    "**user_id** | Identifier for every user. | uint64 | 10563820933045963949  \n",
    "**vertical** | Types of purchase. | string | GAMES"
   ]
  },
  {
   "cell_type": "code",
   "execution_count": 1,
   "metadata": {},
   "outputs": [],
   "source": [
    "import warnings\n",
    "warnings.filterwarnings('ignore')\n",
    "import numpy as np\n",
    "import pandas as pd\n",
    "pd.set_option('display.max_columns', None)\n",
    "import scipy.stats as stats\n",
    "import matplotlib.pyplot as plt\n",
    "%matplotlib inline\n",
    "plt.rcParams['figure.figsize'] = (8, 5)\n",
    "import seaborn as sns"
   ]
  },
  {
   "cell_type": "markdown",
   "metadata": {},
   "source": [
    "## Data Preprocessing"
   ]
  },
  {
   "cell_type": "code",
   "execution_count": 2,
   "metadata": {
    "scrolled": true
   },
   "outputs": [
    {
     "data": {
      "text/html": [
       "<div>\n",
       "<style scoped>\n",
       "    .dataframe tbody tr th:only-of-type {\n",
       "        vertical-align: middle;\n",
       "    }\n",
       "\n",
       "    .dataframe tbody tr th {\n",
       "        vertical-align: top;\n",
       "    }\n",
       "\n",
       "    .dataframe thead th {\n",
       "        text-align: right;\n",
       "    }\n",
       "</style>\n",
       "<table border=\"1\" class=\"dataframe\">\n",
       "  <thead>\n",
       "    <tr style=\"text-align: right;\">\n",
       "      <th></th>\n",
       "      <th>buyer_week_before</th>\n",
       "      <th>clicked_buy_before</th>\n",
       "      <th>country</th>\n",
       "      <th>existing_buyer</th>\n",
       "      <th>initial_fop_set</th>\n",
       "      <th>made_purchase_before</th>\n",
       "      <th>saw_cart_before</th>\n",
       "      <th>spend_usd_next_14_days</th>\n",
       "      <th>user_added_credit_card</th>\n",
       "      <th>user_added_dcb</th>\n",
       "      <th>user_added_fop</th>\n",
       "      <th>user_added_gift_card</th>\n",
       "      <th>user_added_paypal</th>\n",
       "      <th>user_id</th>\n",
       "      <th>visit_before</th>\n",
       "    </tr>\n",
       "  </thead>\n",
       "  <tbody>\n",
       "    <tr>\n",
       "      <th>0</th>\n",
       "      <td>0</td>\n",
       "      <td>0.0</td>\n",
       "      <td>IN</td>\n",
       "      <td>0</td>\n",
       "      <td>False</td>\n",
       "      <td>0.0</td>\n",
       "      <td>1.0</td>\n",
       "      <td>NaN</td>\n",
       "      <td>NaN</td>\n",
       "      <td>NaN</td>\n",
       "      <td>0</td>\n",
       "      <td>NaN</td>\n",
       "      <td>NaN</td>\n",
       "      <td>18321316048201303366</td>\n",
       "      <td>1</td>\n",
       "    </tr>\n",
       "    <tr>\n",
       "      <th>1</th>\n",
       "      <td>0</td>\n",
       "      <td>0.0</td>\n",
       "      <td>IN</td>\n",
       "      <td>0</td>\n",
       "      <td>False</td>\n",
       "      <td>0.0</td>\n",
       "      <td>1.0</td>\n",
       "      <td>NaN</td>\n",
       "      <td>NaN</td>\n",
       "      <td>NaN</td>\n",
       "      <td>0</td>\n",
       "      <td>NaN</td>\n",
       "      <td>NaN</td>\n",
       "      <td>13705367724816913241</td>\n",
       "      <td>1</td>\n",
       "    </tr>\n",
       "    <tr>\n",
       "      <th>2</th>\n",
       "      <td>0</td>\n",
       "      <td>NaN</td>\n",
       "      <td>IN</td>\n",
       "      <td>0</td>\n",
       "      <td>False</td>\n",
       "      <td>NaN</td>\n",
       "      <td>NaN</td>\n",
       "      <td>NaN</td>\n",
       "      <td>NaN</td>\n",
       "      <td>NaN</td>\n",
       "      <td>0</td>\n",
       "      <td>NaN</td>\n",
       "      <td>NaN</td>\n",
       "      <td>6605724765451655114</td>\n",
       "      <td>0</td>\n",
       "    </tr>\n",
       "    <tr>\n",
       "      <th>3</th>\n",
       "      <td>0</td>\n",
       "      <td>1.0</td>\n",
       "      <td>CA</td>\n",
       "      <td>1</td>\n",
       "      <td>True</td>\n",
       "      <td>1.0</td>\n",
       "      <td>1.0</td>\n",
       "      <td>7.398815</td>\n",
       "      <td>1.0</td>\n",
       "      <td>0.0</td>\n",
       "      <td>1</td>\n",
       "      <td>0.0</td>\n",
       "      <td>0.0</td>\n",
       "      <td>2340067911948261502</td>\n",
       "      <td>1</td>\n",
       "    </tr>\n",
       "    <tr>\n",
       "      <th>4</th>\n",
       "      <td>7</td>\n",
       "      <td>1.0</td>\n",
       "      <td>PL</td>\n",
       "      <td>1</td>\n",
       "      <td>True</td>\n",
       "      <td>1.0</td>\n",
       "      <td>1.0</td>\n",
       "      <td>NaN</td>\n",
       "      <td>0.0</td>\n",
       "      <td>1.0</td>\n",
       "      <td>1</td>\n",
       "      <td>0.0</td>\n",
       "      <td>0.0</td>\n",
       "      <td>11891045596810635427</td>\n",
       "      <td>1</td>\n",
       "    </tr>\n",
       "    <tr>\n",
       "      <th>5</th>\n",
       "      <td>0</td>\n",
       "      <td>0.0</td>\n",
       "      <td>ID</td>\n",
       "      <td>0</td>\n",
       "      <td>False</td>\n",
       "      <td>0.0</td>\n",
       "      <td>1.0</td>\n",
       "      <td>NaN</td>\n",
       "      <td>NaN</td>\n",
       "      <td>NaN</td>\n",
       "      <td>0</td>\n",
       "      <td>NaN</td>\n",
       "      <td>NaN</td>\n",
       "      <td>16960375743361213328</td>\n",
       "      <td>1</td>\n",
       "    </tr>\n",
       "    <tr>\n",
       "      <th>6</th>\n",
       "      <td>0</td>\n",
       "      <td>1.0</td>\n",
       "      <td>TH</td>\n",
       "      <td>0</td>\n",
       "      <td>True</td>\n",
       "      <td>1.0</td>\n",
       "      <td>1.0</td>\n",
       "      <td>NaN</td>\n",
       "      <td>0.0</td>\n",
       "      <td>1.0</td>\n",
       "      <td>1</td>\n",
       "      <td>0.0</td>\n",
       "      <td>0.0</td>\n",
       "      <td>14845700381773612658</td>\n",
       "      <td>1</td>\n",
       "    </tr>\n",
       "    <tr>\n",
       "      <th>7</th>\n",
       "      <td>0</td>\n",
       "      <td>0.0</td>\n",
       "      <td>ID</td>\n",
       "      <td>0</td>\n",
       "      <td>False</td>\n",
       "      <td>0.0</td>\n",
       "      <td>1.0</td>\n",
       "      <td>NaN</td>\n",
       "      <td>NaN</td>\n",
       "      <td>NaN</td>\n",
       "      <td>0</td>\n",
       "      <td>NaN</td>\n",
       "      <td>NaN</td>\n",
       "      <td>1407472760358057975</td>\n",
       "      <td>1</td>\n",
       "    </tr>\n",
       "    <tr>\n",
       "      <th>8</th>\n",
       "      <td>0</td>\n",
       "      <td>0.0</td>\n",
       "      <td>NaN</td>\n",
       "      <td>0</td>\n",
       "      <td>False</td>\n",
       "      <td>0.0</td>\n",
       "      <td>1.0</td>\n",
       "      <td>NaN</td>\n",
       "      <td>NaN</td>\n",
       "      <td>NaN</td>\n",
       "      <td>0</td>\n",
       "      <td>NaN</td>\n",
       "      <td>NaN</td>\n",
       "      <td>795175088989280187</td>\n",
       "      <td>1</td>\n",
       "    </tr>\n",
       "    <tr>\n",
       "      <th>9</th>\n",
       "      <td>0</td>\n",
       "      <td>0.0</td>\n",
       "      <td>GR</td>\n",
       "      <td>0</td>\n",
       "      <td>False</td>\n",
       "      <td>0.0</td>\n",
       "      <td>1.0</td>\n",
       "      <td>NaN</td>\n",
       "      <td>NaN</td>\n",
       "      <td>NaN</td>\n",
       "      <td>0</td>\n",
       "      <td>NaN</td>\n",
       "      <td>NaN</td>\n",
       "      <td>6034351615620544692</td>\n",
       "      <td>1</td>\n",
       "    </tr>\n",
       "  </tbody>\n",
       "</table>\n",
       "</div>"
      ],
      "text/plain": [
       "   buyer_week_before  clicked_buy_before country  existing_buyer  \\\n",
       "0                  0                 0.0      IN               0   \n",
       "1                  0                 0.0      IN               0   \n",
       "2                  0                 NaN      IN               0   \n",
       "3                  0                 1.0      CA               1   \n",
       "4                  7                 1.0      PL               1   \n",
       "5                  0                 0.0      ID               0   \n",
       "6                  0                 1.0      TH               0   \n",
       "7                  0                 0.0      ID               0   \n",
       "8                  0                 0.0     NaN               0   \n",
       "9                  0                 0.0      GR               0   \n",
       "\n",
       "   initial_fop_set  made_purchase_before  saw_cart_before  \\\n",
       "0            False                   0.0              1.0   \n",
       "1            False                   0.0              1.0   \n",
       "2            False                   NaN              NaN   \n",
       "3             True                   1.0              1.0   \n",
       "4             True                   1.0              1.0   \n",
       "5            False                   0.0              1.0   \n",
       "6             True                   1.0              1.0   \n",
       "7            False                   0.0              1.0   \n",
       "8            False                   0.0              1.0   \n",
       "9            False                   0.0              1.0   \n",
       "\n",
       "   spend_usd_next_14_days  user_added_credit_card  user_added_dcb  \\\n",
       "0                     NaN                     NaN             NaN   \n",
       "1                     NaN                     NaN             NaN   \n",
       "2                     NaN                     NaN             NaN   \n",
       "3                7.398815                     1.0             0.0   \n",
       "4                     NaN                     0.0             1.0   \n",
       "5                     NaN                     NaN             NaN   \n",
       "6                     NaN                     0.0             1.0   \n",
       "7                     NaN                     NaN             NaN   \n",
       "8                     NaN                     NaN             NaN   \n",
       "9                     NaN                     NaN             NaN   \n",
       "\n",
       "   user_added_fop  user_added_gift_card  user_added_paypal  \\\n",
       "0               0                   NaN                NaN   \n",
       "1               0                   NaN                NaN   \n",
       "2               0                   NaN                NaN   \n",
       "3               1                   0.0                0.0   \n",
       "4               1                   0.0                0.0   \n",
       "5               0                   NaN                NaN   \n",
       "6               1                   0.0                0.0   \n",
       "7               0                   NaN                NaN   \n",
       "8               0                   NaN                NaN   \n",
       "9               0                   NaN                NaN   \n",
       "\n",
       "                user_id  visit_before  \n",
       "0  18321316048201303366             1  \n",
       "1  13705367724816913241             1  \n",
       "2   6605724765451655114             0  \n",
       "3   2340067911948261502             1  \n",
       "4  11891045596810635427             1  \n",
       "5  16960375743361213328             1  \n",
       "6  14845700381773612658             1  \n",
       "7   1407472760358057975             1  \n",
       "8    795175088989280187             1  \n",
       "9   6034351615620544692             1  "
      ]
     },
     "execution_count": 2,
     "metadata": {},
     "output_type": "execute_result"
    }
   ],
   "source": [
    "# data \n",
    "file_name = \"customer_behavior.csv\"\n",
    "my_data = pd.read_csv(file_name)\n",
    "# peek\n",
    "my_data.head(10)"
   ]
  },
  {
   "cell_type": "code",
   "execution_count": 3,
   "metadata": {},
   "outputs": [
    {
     "data": {
      "text/plain": [
       "(566699, 15)"
      ]
     },
     "execution_count": 3,
     "metadata": {},
     "output_type": "execute_result"
    }
   ],
   "source": [
    "my_data.shape"
   ]
  },
  {
   "cell_type": "markdown",
   "metadata": {},
   "source": [
    "#### Check Missing Value"
   ]
  },
  {
   "cell_type": "code",
   "execution_count": 4,
   "metadata": {},
   "outputs": [
    {
     "data": {
      "text/plain": [
       "buyer_week_before              0\n",
       "clicked_buy_before         71059\n",
       "country                    12524\n",
       "existing_buyer                 0\n",
       "initial_fop_set                0\n",
       "made_purchase_before       71059\n",
       "saw_cart_before            71059\n",
       "spend_usd_next_14_days    477667\n",
       "user_added_credit_card    396102\n",
       "user_added_dcb            396102\n",
       "user_added_fop                 0\n",
       "user_added_gift_card      396102\n",
       "user_added_paypal         396102\n",
       "user_id                        0\n",
       "visit_before                   0\n",
       "dtype: int64"
      ]
     },
     "execution_count": 4,
     "metadata": {},
     "output_type": "execute_result"
    }
   ],
   "source": [
    "# remove duplicates\n",
    "my_data = my_data.drop_duplicates()\n",
    "\n",
    "# Check missing value\n",
    "my_data.shape[0] - my_data.count()"
   ]
  },
  {
   "cell_type": "code",
   "execution_count": 5,
   "metadata": {},
   "outputs": [
    {
     "name": "stdout",
     "output_type": "stream",
     "text": [
      "[0 7 1 6 2 8 3 4 5]\n",
      "[ 0. nan  1.]\n",
      "['IN' 'CA' 'PL' 'ID' 'TH' nan 'GR' 'FR' 'TR' 'BR' 'US' 'SA' 'TW' 'AT' 'JP'\n",
      " 'MY' 'ES' 'KR' 'KZ' 'VN' 'PK' 'GB' 'RU' 'PH' 'AR' 'SY' 'MX' 'MA' 'IQ'\n",
      " 'AE' 'OM' 'CO' 'PT' 'KE' 'SE' 'VE' 'CZ' 'UA' 'PY' 'RO' 'LB' 'HK' 'BG'\n",
      " 'EC' 'EG' 'DZ' 'LT' 'NL' 'DE' 'DO' 'FI' 'IT' 'TN' 'CR' 'SN' 'PA' 'IL'\n",
      " 'NZ' 'UY' 'MM' 'SG' 'AU' 'AZ' 'ZA' 'CH' 'CL' 'PE' 'BD' 'DK' 'CY' 'MK'\n",
      " 'HT' 'KG' 'BH' 'LA' 'LV' 'BY' 'BA' 'TG' 'QA' 'TZ' 'PR' 'TT' 'IE' 'HN'\n",
      " 'AM' 'KH' 'GT' 'SK' 'RS' 'KW' 'HU' 'LK' 'BE' 'CI' 'BO' 'NG' 'NO' 'GH'\n",
      " 'NI' 'JO' 'ML' 'AL' 'TJ' 'NP' 'UZ' 'XK' 'MD' 'HR' 'TM' 'ZW' 'MZ' 'CM'\n",
      " 'BF' 'AW' 'CG' 'GP' 'SV' 'MU' 'IR' 'BJ' 'BZ' 'RE' 'AS' 'EE' 'GU' 'LU'\n",
      " 'AO' 'JM' 'UG' 'ZM' 'YE' 'GE' 'PG' 'MV' 'RW' 'VI' 'SI' 'FJ' 'KN' 'NE'\n",
      " 'WS' 'CN' 'GN' 'BB' 'BS' 'GA' 'BN' 'CW' 'CV' 'PS' 'MT' 'AF' 'IS' 'JE'\n",
      " 'LY' 'AG' 'MQ' 'VG' 'BW' 'TL' 'ME' 'MO' 'MN' 'BQ' 'SD' 'NC' 'GF' 'NR'\n",
      " 'ET' 'GY' 'AX' 'KY' 'IM' 'LS' 'MP' 'SR' 'MH' 'LI' 'BT' 'SO' 'VC' 'MW'\n",
      " 'SM' 'VU' 'FK' 'GG' 'MF' 'GD' 'MC' 'DM' 'LR' 'MG' 'LC' 'AI']\n",
      "[0 1]\n",
      "[False  True]\n",
      "[ 0. nan  1.]\n",
      "[ 1. nan  0.]\n",
      "[       nan   7.398815  33.82     ...  78.15159  258.78205   44.419776]\n",
      "[nan  1.  0.]\n",
      "[nan  0.  1.]\n",
      "[0 1]\n",
      "[nan  0.  1.]\n",
      "[nan  0.  1.]\n",
      "[18321316048201303366 13705367724816913241  6605724765451655114 ...\n",
      "  4067520643726557814  9838001846681309771  1440031348051280211]\n",
      "[1 0]\n"
     ]
    }
   ],
   "source": [
    "for column in my_data:\n",
    "    print my_data[column].unique()"
   ]
  },
  {
   "cell_type": "markdown",
   "metadata": {},
   "source": [
    "Some features contain lots of missing values.\n",
    "* spend_usd_next_14_days\n",
    "    * No 0 value. So NAs can be filled with 0.\n",
    "* user_added_credit_card, user_added_dcb, user_added_gift_card, user_added_paypal\n",
    "    * NA values when initial_fop_set=0, which means that the users haven't added any forms of payment. Therefore these NAs can be filled with 0\n",
    "* Other features\n",
    "    * Remove the corresponding data points."
   ]
  },
  {
   "cell_type": "code",
   "execution_count": 6,
   "metadata": {},
   "outputs": [
    {
     "name": "stdout",
     "output_type": "stream",
     "text": [
      "buyer_week_before         0\n",
      "clicked_buy_before        0\n",
      "country                   0\n",
      "existing_buyer            0\n",
      "initial_fop_set           0\n",
      "made_purchase_before      0\n",
      "saw_cart_before           0\n",
      "spend_usd_next_14_days    0\n",
      "user_added_credit_card    0\n",
      "user_added_dcb            0\n",
      "user_added_fop            0\n",
      "user_added_gift_card      0\n",
      "user_added_paypal         0\n",
      "user_id                   0\n",
      "visit_before              0\n",
      "dtype: int64\n",
      "The length of the preprocessed data:  484357\n"
     ]
    }
   ],
   "source": [
    "# remove na vals in user_added_credit_card and clicked_buy_before, country\n",
    "df = my_data.dropna(subset=['made_purchase_before', 'clicked_buy_before','country','saw_cart_before'])\n",
    "# impute the rest missing vals with 0\n",
    "df = df.fillna(0)\n",
    "\n",
    "print df.shape[0] - df.count()\n",
    "print 'The length of the preprocessed data: ', len(df)"
   ]
  },
  {
   "cell_type": "markdown",
   "metadata": {},
   "source": [
    "## Exploratory Data Analysis\n",
    "\n",
    "### spend_usd_next_14_days"
   ]
  },
  {
   "cell_type": "markdown",
   "metadata": {},
   "source": [
    "Check the distribution "
   ]
  },
  {
   "cell_type": "code",
   "execution_count": 7,
   "metadata": {},
   "outputs": [
    {
     "name": "stdout",
     "output_type": "stream",
     "text": [
      "count    484357.000000\n",
      "mean         12.066857\n",
      "std          94.333699\n",
      "min           0.000000\n",
      "25%           0.000000\n",
      "50%           0.000000\n",
      "75%           0.000000\n",
      "max       22519.570000\n",
      "Name: spend_usd_next_14_days, dtype: float64\n"
     ]
    }
   ],
   "source": [
    "spend_usd_next_14_days = df.spend_usd_next_14_days\n",
    "print spend_usd_next_14_days.describe()"
   ]
  },
  {
   "cell_type": "code",
   "execution_count": 8,
   "metadata": {},
   "outputs": [
    {
     "data": {
      "image/png": "[encoded data removed]",
      "text/plain": [
       "<matplotlib.figure.Figure at 0x10b18b210>"
      ]
     },
     "metadata": {},
     "output_type": "display_data"
    }
   ],
   "source": [
    "plt.hist(spend_usd_next_14_days, bins=50)\n",
    "plt.xlabel(\"USD spent in the next 14 days\")\n",
    "plt.ylabel(\"Frequency\")\n",
    "plt.title(\"Raw\")\n",
    "plt.show()"
   ]
  },
  {
   "cell_type": "code",
   "execution_count": 9,
   "metadata": {},
   "outputs": [
    {
     "data": {
      "image/png": "[encoded data removed]",
      "text/plain": [
       "<matplotlib.figure.Figure at 0x10b1bc610>"
      ]
     },
     "metadata": {},
     "output_type": "display_data"
    }
   ],
   "source": [
    "plt.hist(spend_usd_next_14_days[spend_usd_next_14_days!=0], bins=50)\n",
    "plt.xlabel(\"USD spent in the next 14 days\")\n",
    "plt.ylabel(\"Frequency\")\n",
    "plt.title(\"After removing 0s\")\n",
    "plt.show()"
   ]
  },
  {
   "cell_type": "code",
   "execution_count": 10,
   "metadata": {},
   "outputs": [
    {
     "name": "stdout",
     "output_type": "stream",
     "text": [
      "percentage users spending more than 100 USD:  0.027572637538\n",
      "percentage spending more than 500 USD:  0.00374930061917\n"
     ]
    }
   ],
   "source": [
    "n = len(spend_usd_next_14_days)\n",
    "print 'percentage users spending more than 100 USD: ', len(spend_usd_next_14_days[spend_usd_next_14_days>=100])/float(n)\n",
    "print 'percentage spending more than 500 USD: ', len(spend_usd_next_14_days[spend_usd_next_14_days>=500])/float(n)"
   ]
  },
  {
   "cell_type": "markdown",
   "metadata": {},
   "source": [
    "The distribution is highly skewed because of the outliers - a few extremely large transactions. Only 2.7% of users spent more than 100 USD, therefore I set 100 USD as the threshold to filter the data points. The plot looks better after the observations higher than 100 USD were removed.   \n",
    "Most of the spendings are between 0~40 USD, which is a reasonable amount to spend at App Store.  \n",
    "Notice those little peaks, they are caused by the .99 prices"
   ]
  },
  {
   "cell_type": "code",
   "execution_count": 11,
   "metadata": {},
   "outputs": [
    {
     "data": {
      "image/png": "[encoded data removed]",
      "text/plain": [
       "<matplotlib.figure.Figure at 0x10e2b8c50>"
      ]
     },
     "metadata": {},
     "output_type": "display_data"
    }
   ],
   "source": [
    "plt.hist(spend_usd_next_14_days[(spend_usd_next_14_days<=100) & (spend_usd_next_14_days!=0)], bins=100)\n",
    "plt.xlabel(\"USD spent in the next 14 days\")\n",
    "plt.ylabel(\"Frequency\")\n",
    "plt.title(\"Spending between 0 and 100 USD, not including 0\")\n",
    "plt.show()"
   ]
  },
  {
   "cell_type": "markdown",
   "metadata": {},
   "source": [
    "**Are users who made purchase before more likely to purchase in the future?**"
   ]
  },
  {
   "cell_type": "code",
   "execution_count": 12,
   "metadata": {},
   "outputs": [
    {
     "name": "stdout",
     "output_type": "stream",
     "text": [
      "17.169154156954477 percent of users made purchases 14 days later\n",
      "73.0990766453 percent of users who made purchases before made purchases 14 days later\n"
     ]
    }
   ],
   "source": [
    "pop_purchase_rate = np.mean(spend_usd_next_14_days!=0)\n",
    "# if people had purchased before\n",
    "purchased = df[df['made_purchase_before']==1]\n",
    "purchased_purchase_rate = len(purchased[purchased['spend_usd_next_14_days']!=0]) / float(len(purchased))\n",
    "\n",
    "print pop_purchase_rate*100, 'percent of users made purchases 14 days later'\n",
    "print purchased_purchase_rate*100, 'percent of users who made purchases before made purchases 14 days later' "
   ]
  },
  {
   "cell_type": "markdown",
   "metadata": {},
   "source": [
    "### Employ Purchase Funnel"
   ]
  },
  {
   "cell_type": "markdown",
   "metadata": {},
   "source": [
    "**Customer journey towards the purchase of a product: **  \n",
    "1) \"Visited\": entered the app store, saw the homepage and/or browsed products.  \n",
    "2) \"Saw\": checked the interested product(s)' information page.  \n",
    "3) \"Clicked\": decided to buy the product(s) and clicked the \"buy\" button to proceed to check out.  \n",
    "4) \"Purchased\": provided the payment information and selected the prefered form of payment, and completed the purchase. \n",
    "\n",
    "Calculate the number of users at each stage  \n",
    "Calculate the conversion rate at each stage: divide the number of users at each stage by population size  \n",
    "Draw a plot to visualize the funnel"
   ]
  },
  {
   "cell_type": "code",
   "execution_count": 13,
   "metadata": {},
   "outputs": [
    {
     "name": "stdout",
     "output_type": "stream",
     "text": [
      "Number of users and conversion rates at each stage: \n",
      "      action       num  conversion_rate\n",
      "0    visited  484357.0         0.854699\n",
      "1        saw  451933.0         0.797483\n",
      "2    clicked  124233.0         0.219222\n",
      "3  purchased  101911.0         0.179833\n"
     ]
    },
    {
     "data": {
      "image/png": "[encoded data removed]",
      "text/plain": [
       "<matplotlib.figure.Figure at 0x10ea63b90>"
      ]
     },
     "metadata": {},
     "output_type": "display_data"
    }
   ],
   "source": [
    "# number of users at each stage\n",
    "n_total = len(my_data)\n",
    "n_visited = len(df) #print len(df[df['visit_before']==0])\n",
    "n_saw = df['saw_cart_before'].sum()\n",
    "n_clicked = df['clicked_buy_before'].sum()\n",
    "n_purchased = df['made_purchase_before'].sum()\n",
    "\n",
    "# create dataframe the funnel model \n",
    "funnel_df = pd.DataFrame(columns=['action','num','conversion_rate'])\n",
    "funnel_df['action'] = ['visited','saw','clicked','purchased']\n",
    "funnel_df['num'] = [n_visited, n_saw, n_clicked, n_purchased]\n",
    "funnel_df['conversion_rate'] = np.array([n_visited, n_saw, n_clicked, n_purchased]) / n_total\n",
    "\n",
    "print 'Number of users and conversion rates at each stage: '\n",
    "print funnel_df\n",
    "\n",
    "# visualize\n",
    "fig,ax1 = plt.subplots()\n",
    "ax2 = ax1.twinx()\n",
    "funnel_df.plot.bar('action','num', ax = ax1, legend=False)\n",
    "funnel_df.plot('action','conversion_rate', ax = ax2, legend=False)\n",
    "ax1.set_ylabel('Number of users')\n",
    "ax2.set_ylabel('Conversion Rate')\n",
    "ax1.set_title('Purchase Funnel')\n",
    "plt.show()"
   ]
  },
  {
   "cell_type": "code",
   "execution_count": 14,
   "metadata": {},
   "outputs": [
    {
     "name": "stdout",
     "output_type": "stream",
     "text": [
      "      stage_to_stage  cr_from_to\n",
      "0            visited    0.854699\n",
      "1        visited_saw    0.933058\n",
      "2        saw_clicked    0.274893\n",
      "3  clicked_purchased    0.820321\n"
     ]
    },
    {
     "data": {
      "image/png": "[encoded data removed]",
      "text/plain": [
       "<matplotlib.figure.Figure at 0x10e4ae4d0>"
      ]
     },
     "metadata": {},
     "output_type": "display_data"
    }
   ],
   "source": [
    "funnel_df['stage_to_stage'] = ['visited','visited_saw','saw_clicked','clicked_purchased']\n",
    "funnel_df['cr_from_to'] = [n_visited/float(n_total), n_saw/n_visited, n_clicked/n_saw, n_purchased/n_clicked]\n",
    "print funnel_df[['stage_to_stage','cr_from_to']]\n",
    "\n",
    "funnel_df.plot.bar('stage_to_stage', 'cr_from_to', legend=False)\n",
    "plt.ylabel('Conversion Rate')\n",
    "plt.title(\"The conversion rate from one stage to the next one\")\n",
    "plt.show()"
   ]
  },
  {
   "cell_type": "markdown",
   "metadata": {},
   "source": [
    "### Form of Payment"
   ]
  },
  {
   "cell_type": "code",
   "execution_count": 39,
   "metadata": {},
   "outputs": [
    {
     "data": {
      "image/png": "[encoded data removed]",
      "text/plain": [
       "<matplotlib.figure.Figure at 0x10860a990>"
      ]
     },
     "metadata": {},
     "output_type": "display_data"
    }
   ],
   "source": [
    "# check distribution\n",
    "target_features = ['user_added_credit_card','user_added_dcb',\n",
    "                   'user_added_gift_card','user_added_paypal']\n",
    "# categorical variables histogram\n",
    "fig = plt.figure(figsize=(12,8))\n",
    "for i,column in enumerate(target_features):\n",
    "    fig.add_subplot(2,2,i+1)\n",
    "    sns.countplot(df[column])"
   ]
  },
  {
   "cell_type": "markdown",
   "metadata": {},
   "source": [
    "Most people added credit card and dcb as their payment methods. Less people used gift card or paypal as their payment methods. "
   ]
  },
  {
   "cell_type": "code",
   "execution_count": 42,
   "metadata": {},
   "outputs": [
    {
     "data": {
      "image/png": "[encoded data removed]",
      "text/plain": [
       "<matplotlib.figure.Figure at 0x10192b750>"
      ]
     },
     "metadata": {},
     "output_type": "display_data"
    }
   ],
   "source": [
    "country = ['CH','JP','IN','US']\n",
    "count = 1\n",
    "fig = plt.figure(figsize=(20,20))\n",
    "for i,fop in enumerate(target_features):\n",
    "    for j,c in enumerate(country):\n",
    "        fig.add_subplot(4,4,count)\n",
    "        sns.countplot(df[df['country']==c][fop])\n",
    "        plt.title(fop + ' in ' + c)\n",
    "        count += 1"
   ]
  },
  {
   "cell_type": "markdown",
   "metadata": {},
   "source": [
    "Comparing each country's fop preferences provided interesting insights. With advanced credit systems, US customers especially preferred using credit cards. Can be used as a stratification strategy.\n",
    "\n",
    "I decided to analyze the effect of payment method, therefore I focused on the stage between \"clicked\" and \"purchased\".  The idea was to check whether certain type of payment method led to higher conversion rate.\n",
    "\n",
    "The conversion rate  in this setting:\n",
    "$$ConversionRate = \\frac{number \\ of \\ users \\ w/ \\ (clicked\\_buy\\_before = 1)}{number \\ of \\ users \\ w/ \\ (made\\_purchased\\_before = 1)}$$\n",
    "\n",
    "However, some users have more than one payment methods, which means that we may not know which form of payment was used for the transaction. Four possible approaches to calculate conversion rate:\n",
    "* Count the users with multiple payment methods towards all of the fops they have\n",
    "* Filter out the users w/ multiple payment method, study the users w/ only one payment method\n",
    "* Average the above two\n",
    "* Count the users with multiple payment methods as 1/n towards each of the fops they have (eg. if a user has 2 payment methods, paypal and credit card, then add 0.5 to the # of credit card users and 0.5 to the # of paypal users).\n",
    "\n",
    "I proceeded my analysis with the first two approaches."
   ]
  },
  {
   "cell_type": "code",
   "execution_count": 49,
   "metadata": {},
   "outputs": [
    {
     "name": "stdout",
     "output_type": "stream",
     "text": [
      "The number of users w/ fops 484357\n",
      "TThe number of users w/ single fop 113094\n"
     ]
    }
   ],
   "source": [
    "def cr_fop(stages_from_to, fop, df):\n",
    "    \"\"\"\n",
    "    stages_from_to: a list containing the starting and ending stage\n",
    "    \"\"\"\n",
    "    # calculate the number of users at each stage for the type of payment method\n",
    "    tmp = df[df[fop]==1][stages_from_to].sum()\n",
    "    return tmp[1] / tmp[0]\n",
    "\n",
    "stages_from_to = ['clicked_buy_before','made_purchase_before']\n",
    "\n",
    "# conversion rate I\n",
    "multiple_fop = []\n",
    "for fop in target_features:\n",
    "    cr = cr_fop(stages_from_to, fop, df)\n",
    "    multiple_fop.append(cr)\n",
    "\n",
    "# conversion rate II\n",
    "df['num_of_fop'] = df['user_added_credit_card']+df['user_added_dcb']+ \\\n",
    "                       df['user_added_gift_card']+df['user_added_paypal']\n",
    "\n",
    "single_fop_df = df[df['num_of_fop']==1] # filter out the users with multiple fop\n",
    "single_fop = []\n",
    "for fop in target_features:\n",
    "    cr = cr_fop(stages_from_to, fop, single_fop_df)\n",
    "    single_fop.append(cr)\n",
    "\n",
    "print 'The number of users w/ fops', len(df)\n",
    "print 'TThe number of users w/ single fop', len(single_fop_df)"
   ]
  },
  {
   "cell_type": "code",
   "execution_count": 48,
   "metadata": {},
   "outputs": [
    {
     "data": {
      "text/plain": [
       "user_added_credit_card    51320.0\n",
       "user_added_dcb            47251.0\n",
       "user_added_gift_card       9326.0\n",
       "user_added_paypal          5197.0\n",
       "dtype: float64"
      ]
     },
     "execution_count": 48,
     "metadata": {},
     "output_type": "execute_result"
    }
   ],
   "source": [
    "# distribution \n",
    "single_fop_df[target_features].sum() "
   ]
  },
  {
   "cell_type": "code",
   "execution_count": 50,
   "metadata": {
    "scrolled": false
   },
   "outputs": [
    {
     "name": "stdout",
     "output_type": "stream",
     "text": [
      "FOP conversion rate: \n",
      "                      fop   >=1 fop  single_fop\n",
      "0  user_added_credit_card  0.863623    0.809564\n",
      "1          user_added_dcb  0.814635    0.711575\n",
      "2    user_added_gift_card  0.960136    0.953946\n",
      "3       user_added_paypal  0.883465    0.784256\n"
     ]
    },
    {
     "data": {
      "image/png": "[encoded data removed]",
      "text/plain": [
       "<matplotlib.figure.Figure at 0x108601190>"
      ]
     },
     "metadata": {},
     "output_type": "display_data"
    }
   ],
   "source": [
    "# visualize\n",
    "res_fop_df = pd.DataFrame(columns=['fop','>=1 fop','single_fop'])\n",
    "res_fop_df['fop'] = target_features\n",
    "res_fop_df['>=1 fop'] = multiple_fop\n",
    "res_fop_df['single_fop'] = single_fop\n",
    "print 'FOP conversion rate: '\n",
    "print res_fop_df\n",
    "res_fop_df.plot.bar(x='fop',y=['>=1 fops','single_fop'],figsize=(12,8))\n",
    "plt.ylim(0.6,1.0)\n",
    "plt.ylabel(\"conversion rate\")\n",
    "plt.show()"
   ]
  },
  {
   "cell_type": "markdown",
   "metadata": {},
   "source": [
    "## Set Up Experiment"
   ]
  },
  {
   "cell_type": "markdown",
   "metadata": {},
   "source": [
    "From the exploratory analysis:\n",
    "* More than 40% users only have dcb payment on file, but the conversion rate of this fop is low\n",
    "* Gift card payment has the highest conversion rate, which is reasonable, since it works as a balance. But it's difficult to let users to purchase more gift cards, as it really depends on users' preference.\n",
    "* Regarding the Paypal method, the \">=1 fop\" conversion rate is a lot greater than \"single_fop\" conversion rate. That is to say, when a user has multiple payment methods including Payple on file, they chose to use other methods rather than Paypal.\n",
    "* Comparing users with only one payment method, Credit Card has higher conversion rate than Paypal\n",
    "\n",
    "Several possible strategies. \n",
    "* Ask more from good: raise credit card discount from 3% to 3.5% (advertise this promotion together with the credit card issuer), encourageing users to use credit cards\n",
    "* Fix things: create campaigns targeting the users who only use Paypal, encourageing them to use credit cards for payments (or develop new products with Paypal to make Paypal payment easier, but this is more difficult to employ)\n",
    "\n",
    "I A/B tested the second strategy - \"Fix things\". 49166 users were involved in the experiment, with 24695 users in the treatment group and 24471 users in the control group. "
   ]
  },
  {
   "cell_type": "markdown",
   "metadata": {},
   "source": [
    "## A/B test"
   ]
  },
  {
   "cell_type": "code",
   "execution_count": 52,
   "metadata": {},
   "outputs": [
    {
     "data": {
      "text/html": [
       "<div>\n",
       "<style scoped>\n",
       "    .dataframe tbody tr th:only-of-type {\n",
       "        vertical-align: middle;\n",
       "    }\n",
       "\n",
       "    .dataframe tbody tr th {\n",
       "        vertical-align: top;\n",
       "    }\n",
       "\n",
       "    .dataframe thead th {\n",
       "        text-align: right;\n",
       "    }\n",
       "</style>\n",
       "<table border=\"1\" class=\"dataframe\">\n",
       "  <thead>\n",
       "    <tr style=\"text-align: right;\">\n",
       "      <th></th>\n",
       "      <th>country</th>\n",
       "      <th>date</th>\n",
       "      <th>experiment_id</th>\n",
       "      <th>order_id</th>\n",
       "      <th>spend_usd</th>\n",
       "      <th>user_bucket</th>\n",
       "      <th>user_id</th>\n",
       "      <th>vertical</th>\n",
       "    </tr>\n",
       "  </thead>\n",
       "  <tbody>\n",
       "    <tr>\n",
       "      <th>0</th>\n",
       "      <td>NaN</td>\n",
       "      <td>NaN</td>\n",
       "      <td>12624549</td>\n",
       "      <td>NaN</td>\n",
       "      <td>0.0</td>\n",
       "      <td>3</td>\n",
       "      <td>1.655440e+19</td>\n",
       "      <td>NaN</td>\n",
       "    </tr>\n",
       "    <tr>\n",
       "      <th>1</th>\n",
       "      <td>NaN</td>\n",
       "      <td>NaN</td>\n",
       "      <td>12624548</td>\n",
       "      <td>NaN</td>\n",
       "      <td>0.0</td>\n",
       "      <td>14</td>\n",
       "      <td>1.441150e+19</td>\n",
       "      <td>NaN</td>\n",
       "    </tr>\n",
       "    <tr>\n",
       "      <th>2</th>\n",
       "      <td>NaN</td>\n",
       "      <td>NaN</td>\n",
       "      <td>12624549</td>\n",
       "      <td>NaN</td>\n",
       "      <td>0.0</td>\n",
       "      <td>20</td>\n",
       "      <td>8.425200e+18</td>\n",
       "      <td>NaN</td>\n",
       "    </tr>\n",
       "    <tr>\n",
       "      <th>3</th>\n",
       "      <td>NaN</td>\n",
       "      <td>NaN</td>\n",
       "      <td>12624549</td>\n",
       "      <td>NaN</td>\n",
       "      <td>0.0</td>\n",
       "      <td>16</td>\n",
       "      <td>1.130270e+19</td>\n",
       "      <td>NaN</td>\n",
       "    </tr>\n",
       "    <tr>\n",
       "      <th>4</th>\n",
       "      <td>NaN</td>\n",
       "      <td>NaN</td>\n",
       "      <td>12624549</td>\n",
       "      <td>NaN</td>\n",
       "      <td>0.0</td>\n",
       "      <td>14</td>\n",
       "      <td>1.399240e+18</td>\n",
       "      <td>NaN</td>\n",
       "    </tr>\n",
       "  </tbody>\n",
       "</table>\n",
       "</div>"
      ],
      "text/plain": [
       "  country date  experiment_id  order_id  spend_usd  user_bucket       user_id  \\\n",
       "0     NaN  NaN       12624549       NaN        0.0            3  1.655440e+19   \n",
       "1     NaN  NaN       12624548       NaN        0.0           14  1.441150e+19   \n",
       "2     NaN  NaN       12624549       NaN        0.0           20  8.425200e+18   \n",
       "3     NaN  NaN       12624549       NaN        0.0           16  1.130270e+19   \n",
       "4     NaN  NaN       12624549       NaN        0.0           14  1.399240e+18   \n",
       "\n",
       "  vertical  \n",
       "0      NaN  \n",
       "1      NaN  \n",
       "2      NaN  \n",
       "3      NaN  \n",
       "4      NaN  "
      ]
     },
     "execution_count": 52,
     "metadata": {},
     "output_type": "execute_result"
    }
   ],
   "source": [
    "experiment = pd.read_csv(\"experiment_result.csv\")\n",
    "experiment.head()"
   ]
  },
  {
   "cell_type": "code",
   "execution_count": 55,
   "metadata": {},
   "outputs": [
    {
     "data": {
      "text/plain": [
       "(49166, 8)"
      ]
     },
     "execution_count": 55,
     "metadata": {},
     "output_type": "execute_result"
    }
   ],
   "source": [
    "experiment.shape"
   ]
  },
  {
   "cell_type": "code",
   "execution_count": 58,
   "metadata": {},
   "outputs": [
    {
     "name": "stdout",
     "output_type": "stream",
     "text": [
      "Sample size: 49166\n",
      "Number of users in the treatment group:  24695\n",
      "Number of users in the control group:  24471\n"
     ]
    }
   ],
   "source": [
    "control = experiment[experiment['experiment_id']==12624549]['spend_usd']\n",
    "treatment = experiment[experiment['experiment_id']==12624548]['spend_usd']\n",
    "\n",
    "print 'Sample size:', len(experiment)\n",
    "print 'Number of users in the treatment group: ', len(treatment)\n",
    "print 'Number of users in the control group: ', len(control)"
   ]
  },
  {
   "cell_type": "code",
   "execution_count": 64,
   "metadata": {},
   "outputs": [
    {
     "name": "stdout",
     "output_type": "stream",
     "text": [
      "Treatment Group Stats:\n",
      "count    24695.000000\n",
      "mean         3.101232\n",
      "std         11.647487\n",
      "min          0.000000\n",
      "25%          0.000000\n",
      "50%          0.000000\n",
      "75%          0.975661\n",
      "max        119.990000\n",
      "Name: spend_usd, dtype: float64 \n",
      "\n",
      "Control Group Stats:\n",
      "count    24471.000000\n",
      "mean         2.807225\n",
      "std         10.974284\n",
      "min          0.000000\n",
      "25%          0.000000\n",
      "50%          0.000000\n",
      "75%          0.000000\n",
      "max        199.990000\n",
      "Name: spend_usd, dtype: float64\n"
     ]
    }
   ],
   "source": [
    "print 'Treatment Group Stats:'\n",
    "print treatment.describe(), '\\n'\n",
    "print 'Control Group Stats:'\n",
    "print control.describe()"
   ]
  },
  {
   "cell_type": "markdown",
   "metadata": {},
   "source": [
    "**two sample t-test; one sided test, with significance level = 0.05**  \n",
    "miu_t = group mean of treatment group revenue  \n",
    "miu_c = group mean of control group revenue\n",
    "\n",
    "**Hypothesis:**  \n",
    "**H0: miu_t <= miu_c** vs. **Ha: miu_t > miu_c**"
   ]
  },
  {
   "cell_type": "code",
   "execution_count": 72,
   "metadata": {},
   "outputs": [
    {
     "name": "stdout",
     "output_type": "stream",
     "text": [
      "t-statistics = 2.8801076680362367 , p-value = 0.003977110569393284 \n",
      "Reject null hypothesis, mean of treatment is greater than mean of control\n"
     ]
    }
   ],
   "source": [
    "from scipy import stats\n",
    "results = stats.ttest_ind(treatment, control, equal_var=True)\n",
    "alpha = 0.05\n",
    "if (results[0] > 0) & (results[1]/2 < alpha):\n",
    "    print 't-statistics =', results[0], ', p-value =', results[1],\"\\nReject null hypothesis, mean of {} is greater than mean of {}\".format('treatment','control')\n",
    "else:\n",
    "    print \"fail to reject null hypothesis\""
   ]
  },
  {
   "cell_type": "markdown",
   "metadata": {},
   "source": [
    "Since the p-value/2 is smaller than 0.05 (one-sided), and the t-statistics is greater than 0, I rejected the null hypothesis at a 5% level of significance, and concluded that treatment group has larger revenue.  \n",
    "**Hence, my action policy will increase the revenue of the App Store.** I recommend the company to focus more on the users who only use Paypal as the payment method, and customize targeted campaign strategies to encourage users to use credit cards.\n",
    "\n",
    "To back my recommendation, I calculated the expectated amount of increase in revenue:"
   ]
  },
  {
   "cell_type": "code",
   "execution_count": 74,
   "metadata": {},
   "outputs": [
    {
     "data": {
      "text/plain": [
       "0.10473244392420508"
      ]
     },
     "execution_count": 74,
     "metadata": {},
     "output_type": "execute_result"
    }
   ],
   "source": [
    "(treatment.mean() - control.mean()) / control.mean()"
   ]
  }
 ],
 "metadata": {
  "anaconda-cloud": {},
  "kernelspec": {
   "display_name": "Python 2",
   "language": "python",
   "name": "python2"
  },
  "language_info": {
   "codemirror_mode": {
    "name": "ipython",
    "version": 2
   },
   "file_extension": ".py",
   "mimetype": "text/x-python",
   "name": "python",
   "nbconvert_exporter": "python",
   "pygments_lexer": "ipython2",
   "version": "2.7.14"
  }
 },
 "nbformat": 4,
 "nbformat_minor": 2
}
